{
 "cells": [
  {
   "cell_type": "code",
   "execution_count": 21,
   "metadata": {},
   "outputs": [],
   "source": [
    "import sympy as sym\n",
    "from sympy.abc import x, y, z\n",
    "from sympy import Poly\n",
    "from sympy import LT, LM, LC\n",
    "from sympy import lcm\n",
    "\n",
    "#WE CAN CHECK myGroebner WITH sym.groebner(f, x, y, z, order = \"lex\"), USE SUITABLE GENS AND ORDER"
   ]
  },
  {
   "cell_type": "code",
   "execution_count": 22,
   "metadata": {},
   "outputs": [],
   "source": [
    "def myDiv(lst, f, t, gen, dom):\n",
    "    a = [0] * len(lst)\n",
    "    r = 0\n",
    "    p = f\n",
    "    while p != 0:\n",
    "        i = 0\n",
    "        divisionoccured = False\n",
    "        while i<len(lst) and divisionoccured == False:\n",
    "            if sym.div(Poly(LT(p, order = t), gen, domain = dom), Poly(LT(lst[i], order = t), gen, domain = dom))[1] == 0 :\n",
    "                a[i] = a[i] + sym.div(Poly(LT(p, order = t), gen, domain = dom), Poly(LT(lst[i], order = t), gen, domain = dom))[0]\n",
    "                p = p - sym.div(Poly(LT(p, order = t), gen, domain = dom), Poly(LT(lst[i], order = t), gen, domain = dom))[0] * lst[i]\n",
    "                divisionoccured = True\n",
    "            else:\n",
    "                i = i + 1\n",
    "        if divisionoccured == False:\n",
    "            r = r + LT(p, order = t)\n",
    "            p = p - LT(p, order = t)\n",
    "    return a, r"
   ]
  },
  {
   "cell_type": "code",
   "execution_count": 23,
   "metadata": {},
   "outputs": [],
   "source": [
    "def calS(f, g, t):\n",
    "    x_gamma = lcm(LM(f, order = t), LM(g, order = t))\n",
    "    S = x_gamma/LT(f, order = t) * f - x_gamma/LT(g, order = t) * g\n",
    "    return S"
   ]
  },
  {
   "cell_type": "code",
   "execution_count": 29,
   "metadata": {},
   "outputs": [],
   "source": [
    "def myGroebner(f, t, gen, dom):\n",
    "    g = f.copy()\n",
    "    rolling = True\n",
    "    while rolling == True:\n",
    "        g_control = g.copy()\n",
    "        for i in range (len(g_control)-1):\n",
    "            for j in range (i+1, len(g_control)):\n",
    "                S = calS(g[i], g[j], t = t)\n",
    "                rem = myDiv(g_control, S, t = t, gen = gen, dom = dom)[1]\n",
    "                if rem !=0:\n",
    "                    g.append(Poly(rem, gen, domain = dom))\n",
    "        if g == g_control:\n",
    "            rolling = False\n",
    "\n",
    "    for i in range (len(g)):\n",
    "        print(f\"g{i} = {sym.latex(g[i].as_expr())}\")\n",
    "        \n",
    "    return g"
   ]
  },
  {
   "cell_type": "code",
   "execution_count": 30,
   "metadata": {},
   "outputs": [],
   "source": [
    "def myGroebnerCheck(g, t, gen, dom):\n",
    "    dict_of_S={}\n",
    "    for i in range(len(g) - 1):\n",
    "        for j in range(i+1, len(g)):\n",
    "            S = calS(g[i], g[j], t = t)      \n",
    "            dict_of_S[i,j] = S\n",
    "\n",
    "    for item in dict_of_S:\n",
    "        print(f\"S(g{item[0]}, g{item[1]}) = {sym.latex(dict_of_S[item].as_expr())}\")\n",
    "        print(f\"Reminder of division with g = {myDiv(g, dict_of_S[item], t = t, gen = gen, dom = dom)[1]}\")\n",
    "        \n",
    "    return"
   ]
  },
  {
   "cell_type": "code",
   "execution_count": 31,
   "metadata": {},
   "outputs": [],
   "source": [
    "def myRedGroeb(f, t, gen, dom):\n",
    "    #HAVING GROEBNER BASIS\n",
    "    g = myGroebner(f, t = t, gen = gen, dom = dom)\n",
    "\n",
    "    #HAVING MONIC GROEBNER BASIS\n",
    "    for i in range(len(g)):\n",
    "        g[i] = sym.monic(g[i])\n",
    "\n",
    "    #MAKING LIST OF LT(g):\n",
    "    lstLT = []\n",
    "    for i in range (len(g)):\n",
    "        lstLT.append(Poly(LT(g[i], order = t), gen, domain = dom))\n",
    "\n",
    "    #CHANGING THE NON REDUCED BASIS INTO ZERO\n",
    "    h = g.copy()\n",
    "    for i in range (len(g)):\n",
    "        while h[i] != 0 :\n",
    "            denum = lstLT[0:i] + lstLT[i+1:]\n",
    "            rem = myDiv(denum, Poly(LT(h[i], order = t), gen, domain = dom), t = t, gen = gen, dom = dom)[1]\n",
    "            if rem == 0 :\n",
    "                g[i] = 0\n",
    "                break\n",
    "            else:\n",
    "                h[i] = h[i] - LT(h[i], order = t)\n",
    "\n",
    "    #REMOVING THE ZERO BASIS\n",
    "    g = list( filter( lambda a: a != 0, g ) )\n",
    "    print(f\"Reduced Groebner = {g}\")\n",
    "    return g"
   ]
  },
  {
   "cell_type": "code",
   "execution_count": 41,
   "metadata": {},
   "outputs": [
    {
     "name": "stdout",
     "output_type": "stream",
     "text": [
      "---reduced Groebner---\n",
      "g0 = - x^{3} + y\n",
      "g1 = x^{2} y - z\n",
      "g2 = x z - y^{2}\n",
      "g3 = x y^{3} - z^{2}\n",
      "g4 = - y^{5} + z^{3}\n",
      "Reduced Groebner = [Poly(x**3 - y, x, y, z, domain='QQ'), Poly(x**2*y - z, x, y, z, domain='QQ'), Poly(x*z - y**2, x, y, z, domain='QQ'), Poly(x*y**3 - z**2, x, y, z, domain='QQ'), Poly(y**5 - z**3, x, y, z, domain='QQ')]\n",
      "---calling f again---\n",
      "[Poly(-x**3 + y, x, y, z, domain='QQ'), Poly(x**2*y - z, x, y, z, domain='QQ')]\n",
      "---with sympy---\n",
      "GroebnerBasis([x**3 - y, x**2*y - z, x*y**3 - z**2, x*z - y**2, y**5 - z**3], x, y, z, domain='QQ', order='lex')\n"
     ]
    }
   ],
   "source": [
    "#01\n",
    "\n",
    "f0 = Poly(-x**3 + y, x, y, z, domain = 'QQ')\n",
    "f1 = Poly(x**2*y - z, x, y, z, domain = 'QQ')\n",
    "\n",
    "f = [f0, f1]\n",
    "\n",
    "print(\"---reduced Groebner---\")\n",
    "G = myRedGroeb(f, t = \"lex\", gen =(x,y,z), dom='QQ')\n",
    "print(\"---calling f again---\")\n",
    "print(f)\n",
    "print(\"---with sympy---\")\n",
    "f = [f0, f1]\n",
    "realG = sym.groebner(f, x, y, z, order = \"lex\")\n",
    "print(realG)"
   ]
  },
  {
   "cell_type": "code",
   "execution_count": 64,
   "metadata": {},
   "outputs": [
    {
     "name": "stdout",
     "output_type": "stream",
     "text": [
      "[Poly(x*z - y, x, y, z, domain='QQ'), Poly(x*y + 2*z**2, x, y, z, domain='QQ'), Poly(y - z, x, y, z, domain='QQ')]\n",
      "--Groebner by sympy--\n",
      "GroebnerBasis([x*z - z, y - z, 2*z**2 + z], x, y, z, domain='ZZ', order='lex')\n",
      "--membership of realG in f--\n",
      "([Poly(1, x, y, z, domain='ZZ'), Poly(0, x, y, z, domain='ZZ'), Poly(1, x, y, z, domain='ZZ')], Poly(0, x, y, z, domain='ZZ'))\n",
      "([Poly(0, x, y, z, domain='ZZ'), Poly(0, x, y, z, domain='ZZ'), Poly(1, x, y, z, domain='ZZ')], Poly(0, x, y, z, domain='ZZ'))\n",
      "([Poly(0, x, y, z, domain='ZZ'), Poly(0, x, y, z, domain='ZZ'), Poly(0, x, y, z, domain='ZZ')], Poly(2*z**2 + z, x, y, z, domain='ZZ'))\n",
      "--membership of f in realG--\n",
      "([Poly(1, x, y, z, domain='ZZ'), Poly(-1, x, y, z, domain='ZZ'), Poly(0, x, y, z, domain='ZZ')], Poly(0, x, y, z, domain='ZZ'))\n",
      "([Poly(1, x, y, z, domain='ZZ'), Poly(x, x, y, z, domain='ZZ'), Poly(1, x, y, z, domain='ZZ')], Poly(0, x, y, z, domain='ZZ'))\n",
      "([Poly(0, x, y, z, domain='ZZ'), Poly(1, x, y, z, domain='ZZ'), Poly(0, x, y, z, domain='ZZ')], Poly(0, x, y, z, domain='ZZ'))\n"
     ]
    }
   ],
   "source": [
    "#02\n",
    "\n",
    "f0 = Poly(x*z - y, x, y, z, domain = 'QQ')\n",
    "f1 = Poly(x*y + 2*z**2, x, y, z, domain = 'QQ')\n",
    "f2 = Poly(y - z, x, y, z, domain = 'QQ')\n",
    "\n",
    "f = [f0, f1, f2]\n",
    "print(f)\n",
    "\n",
    "print(\"--Groebner by sympy--\")\n",
    "realG = sym.groebner(f, x, y, z, order = \"lex\")\n",
    "print(realG)\n",
    "\n",
    "print(\"--membership of realG in f--\")\n",
    "print(sym.reduced(realG[0], f))\n",
    "print(sym.reduced(realG[1], f))\n",
    "print(sym.reduced(realG[2], f)) #NOT GIVING ZERO REMINDER !!!\n",
    "\n",
    "print(\"--membership of f in realG--\")\n",
    "print(sym.reduced(f[0], realG))\n",
    "print(sym.reduced(f[1], realG))\n",
    "print(sym.reduced(f[2], realG))"
   ]
  },
  {
   "cell_type": "code",
   "execution_count": null,
   "metadata": {},
   "outputs": [],
   "source": []
  }
 ],
 "metadata": {
  "kernelspec": {
   "display_name": "Python 3",
   "language": "python",
   "name": "python3"
  },
  "language_info": {
   "codemirror_mode": {
    "name": "ipython",
    "version": 3
   },
   "file_extension": ".py",
   "mimetype": "text/x-python",
   "name": "python",
   "nbconvert_exporter": "python",
   "pygments_lexer": "ipython3",
   "version": "3.7.3"
  }
 },
 "nbformat": 4,
 "nbformat_minor": 4
}
