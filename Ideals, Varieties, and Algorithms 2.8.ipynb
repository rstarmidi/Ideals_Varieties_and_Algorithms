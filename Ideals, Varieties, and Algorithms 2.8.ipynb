{
 "cells": [
  {
   "cell_type": "code",
   "execution_count": 2,
   "metadata": {},
   "outputs": [],
   "source": [
    "import sympy as sym\n",
    "from sympy.abc import x, y, z\n",
    "from sympy import Poly\n",
    "from sympy import LT, LM, LC\n",
    "from sympy import lcm\n",
    "from sympy import reduced\n",
    "\n",
    "#WE CAN CHECK myGroebner WITH sym.groebner(f, x, y, z, order = \"lex\"), USE SUITABLE GENS AND ORDER"
   ]
  },
  {
   "cell_type": "code",
   "execution_count": 3,
   "metadata": {},
   "outputs": [],
   "source": [
    "def myDiv(lst, f, t, gen, dom):\n",
    "    a = [0] * len(lst)\n",
    "    r = 0\n",
    "    p = f\n",
    "    while p != 0:\n",
    "        i = 0\n",
    "        divisionoccured = False\n",
    "        while i<len(lst) and divisionoccured == False:\n",
    "            if sym.div(Poly(LT(p, order = t), gen, domain = dom), Poly(LT(lst[i], order = t), gen, domain = dom))[1] == 0 :\n",
    "                a[i] = a[i] + sym.div(Poly(LT(p, order = t), gen, domain = dom), Poly(LT(lst[i], order = t), gen, domain = dom))[0]\n",
    "                p = p - sym.div(Poly(LT(p, order = t), gen, domain = dom), Poly(LT(lst[i], order = t), gen, domain = dom))[0] * lst[i]\n",
    "                divisionoccured = True\n",
    "            else:\n",
    "                i = i + 1\n",
    "        if divisionoccured == False:\n",
    "            r = r + LT(p, order = t)\n",
    "            p = p - LT(p, order = t)\n",
    "    return a, r"
   ]
  },
  {
   "cell_type": "code",
   "execution_count": 4,
   "metadata": {},
   "outputs": [],
   "source": [
    "def calS(f, g, t):\n",
    "    x_gamma = lcm(LM(f, order = t), LM(g, order = t))\n",
    "    S = x_gamma/LT(f, order = t) * f - x_gamma/LT(g, order = t) * g\n",
    "    return S"
   ]
  },
  {
   "cell_type": "code",
   "execution_count": 5,
   "metadata": {},
   "outputs": [],
   "source": [
    "def myGroebner(f, t, gen, dom):\n",
    "    g = f.copy()\n",
    "    rolling = True\n",
    "    while rolling == True:\n",
    "        g_control = g.copy()\n",
    "        for i in range (len(g_control)-1):\n",
    "            for j in range (i+1, len(g_control)):\n",
    "                S = calS(g[i], g[j], t = t)\n",
    "                rem = myDiv(g_control, S, t = t, gen = gen, dom = dom)[1]\n",
    "                if rem !=0:\n",
    "                    g.append(Poly(rem, gen, domain = dom))\n",
    "        if g == g_control:\n",
    "            rolling = False\n",
    "\n",
    "    for i in range (len(g)):\n",
    "        print(f\"g{i} = {sym.latex(g[i].as_expr())}\")\n",
    "        \n",
    "    return g"
   ]
  },
  {
   "cell_type": "code",
   "execution_count": 6,
   "metadata": {},
   "outputs": [],
   "source": [
    "def myGroebnerCheck(g, t, gen, dom):\n",
    "    dict_of_S={}\n",
    "    for i in range(len(g) - 1):\n",
    "        for j in range(i+1, len(g)):\n",
    "            S = calS(g[i], g[j], t = t)      \n",
    "            dict_of_S[i,j] = S\n",
    "\n",
    "    for item in dict_of_S:\n",
    "        print(f\"S(g{item[0]}, g{item[1]}) = {sym.latex(dict_of_S[item].as_expr())}\")\n",
    "        print(f\"Reminder of division with g = {myDiv(g, dict_of_S[item], t = t, gen = gen, dom = dom)[1]}\")\n",
    "        \n",
    "    return"
   ]
  },
  {
   "cell_type": "code",
   "execution_count": 7,
   "metadata": {},
   "outputs": [],
   "source": [
    "def myRedGroeb(f, t, gen, dom):\n",
    "    #HAVING GROEBNER BASIS\n",
    "    g = myGroebner(f, t = t, gen = gen, dom = dom)\n",
    "\n",
    "    #HAVING MONIC GROEBNER BASIS\n",
    "    for i in range(len(g)):\n",
    "        g[i] = sym.monic(g[i])\n",
    "\n",
    "    #MAKING LIST OF LT(g):\n",
    "    lstLT = []\n",
    "    for i in range (len(g)):\n",
    "        lstLT.append(Poly(LT(g[i], order = t), gen, domain = dom))\n",
    "\n",
    "    #CHANGING THE NON REDUCED BASIS INTO ZERO\n",
    "    h = g.copy()\n",
    "    for i in range (len(g)):\n",
    "        while h[i] != 0 :\n",
    "            denum = lstLT[0:i] + lstLT[i+1:]\n",
    "            rem = myDiv(denum, Poly(LT(h[i], order = t), gen, domain = dom), t = t, gen = gen, dom = dom)[1]\n",
    "            if rem == 0 :\n",
    "                g[i] = 0\n",
    "                break\n",
    "            else:\n",
    "                h[i] = h[i] - LT(h[i], order = t)\n",
    "\n",
    "    #REMOVING THE ZERO BASIS\n",
    "    g = list( filter( lambda a: a != 0, g ) )\n",
    "    print(f\"Reduced Groebner = {g}\")\n",
    "    return g"
   ]
  },
  {
   "cell_type": "code",
   "execution_count": 8,
   "metadata": {},
   "outputs": [
    {
     "name": "stdout",
     "output_type": "stream",
     "text": [
      "---reduced Groebner---\n",
      "g0 = - x^{3} + y\n",
      "g1 = x^{2} y - z\n",
      "g2 = x z - y^{2}\n",
      "g3 = x y^{3} - z^{2}\n",
      "g4 = - y^{5} + z^{3}\n",
      "Reduced Groebner = [Poly(x**3 - y, x, y, z, domain='QQ'), Poly(x**2*y - z, x, y, z, domain='QQ'), Poly(x*z - y**2, x, y, z, domain='QQ'), Poly(x*y**3 - z**2, x, y, z, domain='QQ'), Poly(y**5 - z**3, x, y, z, domain='QQ')]\n",
      "\n",
      "---with sympy---\n",
      "GroebnerBasis([x**3 - y, x**2*y - z, x*y**3 - z**2, x*z - y**2, y**5 - z**3], x, y, z, domain='QQ', order='lex')\n"
     ]
    },
    {
     "data": {
      "text/plain": [
       "([Poly(0, x, y, z, domain='ZZ'),\n",
       "  Poly(0, x, y, z, domain='ZZ'),\n",
       "  Poly(1, x, y, z, domain='ZZ'),\n",
       "  Poly(0, x, y, z, domain='ZZ'),\n",
       "  Poly(1, x, y, z, domain='ZZ')],\n",
       " Poly(0, x, y, z, domain='ZZ'))"
      ]
     },
     "execution_count": 8,
     "metadata": {},
     "output_type": "execute_result"
    }
   ],
   "source": [
    "#01\n",
    "\n",
    "f0 = Poly(-x**3 + y, x, y, z, domain = 'QQ')\n",
    "f1 = Poly(x**2*y - z, x, y, z, domain = 'QQ')\n",
    "\n",
    "f = [f0, f1]\n",
    "print(\"---reduced Groebner---\")\n",
    "G = myRedGroeb(f, t = \"lex\", gen =(x,y,z), dom='QQ')\n",
    "\n",
    "f = [f0, f1]\n",
    "print(\"\\n---with sympy---\")\n",
    "realG = sym.groebner(f, x, y, z, order = \"lex\")\n",
    "print(realG)\n",
    "\n",
    "question = Poly(x*y**3 - z**2 + y**5 - z**3, x, y, z, domain=\"QQ\")\n",
    "sym.reduced(question, realG)"
   ]
  },
  {
   "cell_type": "code",
   "execution_count": 9,
   "metadata": {},
   "outputs": [
    {
     "name": "stdout",
     "output_type": "stream",
     "text": [
      "---reduced Groebner---\n",
      "g0 = x z - y\n",
      "g1 = x y + 2 z^{2}\n",
      "g2 = y - z\n",
      "g3 = - 2 z^{3} - z^{2}\n",
      "g4 = 2 z^{2} + z\n",
      "Reduced Groebner = [Poly(y - z, x, y, z, domain='QQ'), Poly(z**2 + 1/2*z, x, y, z, domain='QQ')]\n",
      "\n",
      "---with sympy---\n",
      "GroebnerBasis([x*z - z, y - z, 2*z**2 + z], x, y, z, domain='ZZ', order='lex')\n"
     ]
    },
    {
     "data": {
      "text/plain": [
       "([Poly(x**2 + x + 1, x, y, z, domain='ZZ'),\n",
       "  Poly(-2*y - 2*z, x, y, z, domain='ZZ'),\n",
       "  Poly(-1, x, y, z, domain='ZZ')],\n",
       " Poly(2*z, x, y, z, domain='ZZ'))"
      ]
     },
     "execution_count": 9,
     "metadata": {},
     "output_type": "execute_result"
    }
   ],
   "source": [
    "# 02\n",
    "\n",
    "f0 = Poly(x*z - y, x, y, z, domain = 'QQ')\n",
    "f1 = Poly(x*y + 2*z**2, x, y, z, domain = 'QQ')\n",
    "f2 = Poly(y - z, x, y, z, domain = 'QQ')\n",
    "\n",
    "f = [f0, f1, f2]\n",
    "print(\"---reduced Groebner---\")\n",
    "G = myRedGroeb(f, t = \"lex\", gen =(x,y,z), dom='QQ')\n",
    "\n",
    "f = [f0, f1, f2]\n",
    "print(\"\\n---with sympy---\")\n",
    "realG = sym.groebner(f, x, y, z, order = \"lex\")\n",
    "print(realG)\n",
    "\n",
    "question = Poly(x**3*z - 2*y**2, x, y, z, domain=\"QQ\")\n",
    "sym.reduced(question, realG)"
   ]
  },
  {
   "cell_type": "code",
   "execution_count": 10,
   "metadata": {},
   "outputs": [
    {
     "name": "stdout",
     "output_type": "stream",
     "text": [
      "---reduced Groebner---\n",
      "g0 = x^{2} + y^{2} + z^{2} - 1\n",
      "g1 = x^{2} - 2 x + y^{2} + z^{2}\n",
      "g2 = 2 x - 3 y - z\n",
      "g3 = 3 y + z - 1\n",
      "g4 = \\frac{13 y^{2}}{4} + \\frac{3 y z}{2} + \\frac{5 z^{2}}{4} - 1\n",
      "g5 = \\frac{13 y^{2}}{4} + \\frac{3 y z}{2} - 3 y + \\frac{5 z^{2}}{4} - z\n",
      "g6 = \\frac{10 z^{2}}{9} - \\frac{2 z}{9} - \\frac{23}{36}\n",
      "g7 = \\frac{400 z^{4}}{1053} - \\frac{160 z^{3}}{1053} - \\frac{178 z^{2}}{351} + \\frac{110 z}{1053} + \\frac{184}{1053}\n",
      "g8 = \\frac{400 z^{4}}{1053} - \\frac{160 z^{3}}{1053} - \\frac{178 z^{2}}{351} + \\frac{110 z}{1053} + \\frac{184}{1053}\n",
      "g9 = \\frac{10 z^{2}}{9} - \\frac{2 z}{9} - \\frac{23}{36}\n",
      "g10 = \\frac{400 z^{4}}{1053} - \\frac{160 z^{3}}{1053} - \\frac{178 z^{2}}{351} + \\frac{110 z}{1053} + \\frac{184}{1053}\n",
      "g11 = \\frac{400 z^{4}}{1053} - \\frac{160 z^{3}}{1053} - \\frac{178 z^{2}}{351} + \\frac{110 z}{1053} + \\frac{184}{1053}\n",
      "g12 = - \\frac{20 z^{2}}{117} + \\frac{4 z}{117} + \\frac{23}{234}\n",
      "g13 = - \\frac{20 z^{2}}{117} + \\frac{4 z}{117} + \\frac{23}{234}\n",
      "g14 = - \\frac{40 z^{2}}{117} + \\frac{8 z}{117} + \\frac{23}{117}\n",
      "g15 = - \\frac{40 z^{2}}{117} + \\frac{8 z}{117} + \\frac{23}{117}\n",
      "Reduced Groebner = [Poly(y + 1/3*z - 1/3, x, y, z, domain='QQ')]\n",
      "\n",
      "---with sympy---\n",
      "GroebnerBasis([2*x - 1, 3*y + z - 1, 40*z**2 - 8*z - 23], x, y, z, domain='ZZ', order='lex')\n"
     ]
    }
   ],
   "source": [
    "#03\n",
    "\n",
    "f0 = Poly(x**2 + y**2 + z**2 - 1, x, y, z, domain = 'QQ')\n",
    "f1 = Poly(x**2 + y**2 + z**2 - 2*x, x, y, z, domain = 'QQ')\n",
    "f2 = Poly(2*x - 3*y - z, x, y, z, domain = 'QQ')\n",
    "\n",
    "f = [f0, f1, f2]\n",
    "print(\"---reduced Groebner---\")\n",
    "myRedGroeb(f, t=\"lex\", gen=(x,y,z), dom=\"QQ\")\n",
    "\n",
    "f = [f0, f1, f2]\n",
    "print(\"\\n---with sympy---\")\n",
    "realG = sym.groebner(f, x, y, z, order = \"lex\")\n",
    "print(realG)"
   ]
  },
  {
   "cell_type": "code",
   "execution_count": 12,
   "metadata": {},
   "outputs": [
    {
     "name": "stdout",
     "output_type": "stream",
     "text": [
      "\n",
      "---with sympy---\n",
      "GroebnerBasis([1], x, y, z, domain='ZZ', order='lex')\n"
     ]
    }
   ],
   "source": [
    "#04\n",
    "\n",
    "f0 = Poly(x**2*y - z**3, x, y, z, domain=\"QQ\")\n",
    "f1 = Poly(2*x*y - 4*z - 1, x, y, z, domain=\"QQ\")\n",
    "f2 = Poly(z - y**2, x, y, z, domain=\"QQ\")\n",
    "f3 = Poly(x**3 -4*z*y, x, y, z, domain=\"QQ\")\n",
    "\n",
    "f = [f0, f1, f2, f3]\n",
    "#print(\"---reduced Groebner---\")\n",
    "#myRedGroeb(f, t = \"lex\", gen = (x,y,z), dom = \"QQ\")\n",
    "\n",
    "print(\"\\n---with sympy---\")\n",
    "realG = sym.groebner(f, x, y, z, order = \"lex\")\n",
    "print(realG)"
   ]
  },
  {
   "cell_type": "code",
   "execution_count": null,
   "metadata": {},
   "outputs": [],
   "source": []
  }
 ],
 "metadata": {
  "kernelspec": {
   "display_name": "Python 3",
   "language": "python",
   "name": "python3"
  },
  "language_info": {
   "codemirror_mode": {
    "name": "ipython",
    "version": 3
   },
   "file_extension": ".py",
   "mimetype": "text/x-python",
   "name": "python",
   "nbconvert_exporter": "python",
   "pygments_lexer": "ipython3",
   "version": "3.8.1"
  }
 },
 "nbformat": 4,
 "nbformat_minor": 4
}
