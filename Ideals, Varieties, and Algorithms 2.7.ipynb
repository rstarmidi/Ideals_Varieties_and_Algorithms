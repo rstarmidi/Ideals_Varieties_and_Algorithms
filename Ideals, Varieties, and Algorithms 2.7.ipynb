{
 "cells": [
  {
   "cell_type": "code",
   "execution_count": 1,
   "metadata": {},
   "outputs": [],
   "source": [
    "import sympy as sym\n",
    "from sympy.abc import x, y, z\n",
    "from sympy import Poly\n",
    "from sympy import LT, LM, LC\n",
    "from sympy import lcm\n",
    "\n",
    "#WE CAN CHECK myGroebner WITH sym.groebner(f, x, y, z, order = \"lex\"), USE SUITABLE GENS AND ORDER"
   ]
  },
  {
   "cell_type": "code",
   "execution_count": 2,
   "metadata": {},
   "outputs": [],
   "source": [
    "def myDiv(lst, f, t, gen, dom):\n",
    "    a = [0] * len(lst)\n",
    "    r = 0\n",
    "    p = f\n",
    "    while p != 0:\n",
    "        i = 0\n",
    "        divisionoccured = False\n",
    "        while i<len(lst) and divisionoccured == False:\n",
    "            if sym.div(Poly(LT(p, order = t), gen, domain = dom), Poly(LT(lst[i], order = t), gen, domain = dom))[1] == 0 :\n",
    "                a[i] = a[i] + sym.div(Poly(LT(p, order = t), gen, domain = dom), Poly(LT(lst[i], order = t), gen, domain = dom))[0]\n",
    "                p = p - sym.div(Poly(LT(p, order = t), gen, domain = dom), Poly(LT(lst[i], order = t), gen, domain = dom))[0] * lst[i]\n",
    "                divisionoccured = True\n",
    "            else:\n",
    "                i = i + 1\n",
    "        if divisionoccured == False:\n",
    "            r = r + LT(p, order = t)\n",
    "            p = p - LT(p, order = t)\n",
    "    return a, r"
   ]
  },
  {
   "cell_type": "code",
   "execution_count": 3,
   "metadata": {},
   "outputs": [],
   "source": [
    "def calS(f, g, t):\n",
    "    x_gamma = lcm(LM(f, order = t), LM(g, order = t))\n",
    "    S = x_gamma/LT(f, order = t) * f - x_gamma/LT(g, order = t) * g\n",
    "    return S"
   ]
  },
  {
   "cell_type": "code",
   "execution_count": 4,
   "metadata": {},
   "outputs": [],
   "source": [
    "def myGroebner(f, t, gen, dom):\n",
    "    g = f\n",
    "    rolling = True\n",
    "    while rolling == True:\n",
    "        g_control = g.copy()\n",
    "        for i in range (len(g_control)-1):\n",
    "            for j in range (i+1, len(g_control)):\n",
    "                S = calS(f[i], f[j], t = t)\n",
    "                rem = myDiv(g_control, S, t = t, gen = gen, dom = dom)[1]\n",
    "                if rem !=0:\n",
    "                    g.append(Poly(rem, gen, domain = dom))\n",
    "        if g == g_control:\n",
    "            rolling = False\n",
    "\n",
    "    for i in range (len(g)):\n",
    "        print(f\"g{i} = {sym.latex(g[i].as_expr())}\")\n",
    "        \n",
    "    return g"
   ]
  },
  {
   "cell_type": "code",
   "execution_count": 5,
   "metadata": {},
   "outputs": [],
   "source": [
    "def myGroebnerCheck(g, t, gen, dom):\n",
    "    dict_of_S={}\n",
    "    for i in range(len(g) - 1):\n",
    "        for j in range(i+1, len(g)):\n",
    "            S = calS(g[i], g[j], t = t)      \n",
    "            dict_of_S[i,j] = S\n",
    "\n",
    "    for item in dict_of_S:\n",
    "        print(f\"S(g{item[0]}, g{item[1]}) = {sym.latex(dict_of_S[item].as_expr())}\")\n",
    "        print(f\"Reminder of division with g = {myDiv(g, dict_of_S[item], t = t, gen = gen, dom = dom)[1]}\")\n",
    "        \n",
    "    return"
   ]
  },
  {
   "cell_type": "code",
   "execution_count": 6,
   "metadata": {},
   "outputs": [
    {
     "name": "stdout",
     "output_type": "stream",
     "text": [
      "S(g0, g1) = - x^{2}\n",
      "Reminder of division with g = 0\n",
      "S(g0, g2) = - 2 x y\n",
      "Reminder of division with g = 0\n",
      "S(g0, g3) = - 2 x y^{2}\n",
      "Reminder of division with g = 0\n",
      "S(g0, g4) = \\frac{x^{4}}{2} - 2 x y^{3}\n",
      "Reminder of division with g = 0\n",
      "S(g1, g2) = x - 2 y^{2}\n",
      "Reminder of division with g = 0\n",
      "S(g1, g3) = x - 2 y^{2}\n",
      "Reminder of division with g = 0\n",
      "S(g1, g4) = \\frac{x^{3}}{2} + x y - 2 y^{3}\n",
      "Reminder of division with g = 0\n",
      "S(g2, g3) = 0\n",
      "Reminder of division with g = 0\n",
      "S(g2, g4) = \\frac{x^{3}}{2}\n",
      "Reminder of division with g = 0\n",
      "S(g3, g4) = \\frac{x^{2}}{2}\n",
      "Reminder of division with g = 0\n"
     ]
    }
   ],
   "source": [
    "#1 grlex x>y>z\n",
    "f0 = Poly(x**3 - 2*x*y, x, y, z)\n",
    "f1 = Poly(x**2*y - 2*y**2 + x, x, y, z)\n",
    "f2 = Poly(-x**2, x, y, z)\n",
    "f3 = Poly(-2*x*y, x, y, z)\n",
    "f4 = Poly(-2*y**2 + x, x, y, z)\n",
    "\n",
    "f = [f0, f1, f2, f3, f4]\n",
    "\n",
    "myGroebnerCheck(f, t = \"grlex\", gen = (x, y, z), dom = 'QQ')\n"
   ]
  },
  {
   "cell_type": "code",
   "execution_count": 7,
   "metadata": {},
   "outputs": [
    {
     "name": "stdout",
     "output_type": "stream",
     "text": [
      "Poly(x**2 - y, x, y, domain='ZZ')\n",
      "Poly(y**3 - y, x, y, domain='ZZ')\n",
      "Poly(-y**2 + 1, x, y, domain='ZZ')\n",
      "Poly(0, x, y, domain='ZZ')\n",
      "S(g0, g1) = x^{2} - y\n",
      "Reminder of division with g = 0\n",
      "S(g0, g2) = y^{2} - 1\n",
      "Reminder of division with g = 0\n",
      "S(g0, g3) = x^{2} y - y^{2}\n",
      "Reminder of division with g = 0\n",
      "S(g0, g4) = x^{2} - y\n",
      "Reminder of division with g = 0\n",
      "S(g1, g2) = - x^{2} + y^{3}\n",
      "Reminder of division with g = 0\n",
      "S(g1, g3) = 0\n",
      "Reminder of division with g = 0\n",
      "S(g1, g4) = 0\n",
      "Reminder of division with g = 0\n",
      "S(g2, g3) = x^{2} y - y^{4}\n",
      "Reminder of division with g = 0\n",
      "S(g2, g4) = x^{2} - y^{3}\n",
      "Reminder of division with g = 0\n",
      "S(g3, g4) = 0\n",
      "Reminder of division with g = 0\n"
     ]
    }
   ],
   "source": [
    "#2a Manual Counting lex x>y\n",
    "\n",
    "f0 = Poly(x**2*y - 1, x, y)\n",
    "f1 = Poly(x*y**2 - x, x, y)\n",
    "f2 = calS(f0, f1, t = \"lex\")\n",
    "f2 = myDiv([f0, f1], f2, t = \"lex\", gen = (x, y), dom = 'QQ')[1]\n",
    "f2 = Poly(f2, x, y)\n",
    "print(f2)\n",
    "\n",
    "f3 = calS(f1, f2, t = \"lex\")\n",
    "f3 = myDiv([f0, f1, f2], f3, t = \"lex\", gen = (x, y), dom = 'QQ')[1]\n",
    "f3 = Poly(f3, x, y)\n",
    "print(f3)\n",
    "\n",
    "f4 = calS(f2, f3, t = \"lex\")\n",
    "f4 = myDiv([f0, f1, f2, f3], f4, t = \"lex\", gen = (x, y), dom = 'QQ')[1]\n",
    "f4 = Poly(f4, x, y)\n",
    "print(f4)\n",
    "\n",
    "f5 = calS(f3, f4, t = \"lex\")\n",
    "f5 = myDiv([f0, f1, f2, f3, f4], f5, t = \"lex\", gen = (x, y), dom = 'QQ')[1]\n",
    "f5 = Poly(f5, x, y)\n",
    "print(f5)\n",
    "\n",
    "\n",
    "f = [f0, f1, f2, f3, f4]\n",
    "\n",
    "myGroebnerCheck(f, t = \"lex\", gen = (x, y), dom = 'QQ')\n"
   ]
  },
  {
   "cell_type": "code",
   "execution_count": 11,
   "metadata": {},
   "outputs": [
    {
     "name": "stdout",
     "output_type": "stream",
     "text": [
      "g0 = x^{2} y - 1\n",
      "g1 = x y^{2} - x\n",
      "g2 = x^{2} - y\n",
      "g3 = y^{2} - 1\n",
      "g4 = y^{3} - y\n",
      "S(g0, g1) = x^{2} - y\n",
      "Reminder of division with g = 0\n",
      "S(g0, g2) = y^{2} - 1\n",
      "Reminder of division with g = 0\n",
      "S(g0, g3) = x^{2} - y\n",
      "Reminder of division with g = 0\n",
      "S(g0, g4) = x^{2} y - y^{2}\n",
      "Reminder of division with g = 0\n",
      "S(g1, g2) = - x^{2} + y^{3}\n",
      "Reminder of division with g = 0\n",
      "S(g1, g3) = 0\n",
      "Reminder of division with g = 0\n",
      "S(g1, g4) = 0\n",
      "Reminder of division with g = 0\n",
      "S(g2, g3) = x^{2} - y^{3}\n",
      "Reminder of division with g = 0\n",
      "S(g2, g4) = x^{2} y - y^{4}\n",
      "Reminder of division with g = 0\n",
      "S(g3, g4) = 0\n",
      "Reminder of division with g = 0\n",
      "\n",
      "-----REDUCED GROEBNER BUILD IN sympy-----\n",
      "GroebnerBasis([x**2 - y, y**2 - 1], x, y, domain='QQ', order='lex')\n",
      "-----------------------------------------\n"
     ]
    }
   ],
   "source": [
    "#2a & 3a lex x>y\n",
    "\n",
    "f0 = Poly(x**2*y - 1, x, y, domain = 'QQ')\n",
    "f1 = Poly(x*y**2 - x, x, y, domain = 'QQ')\n",
    "\n",
    "f = [f0, f1]\n",
    "\n",
    "g = myGroebner(f, t = \"lex\", gen = (x, y), dom = 'QQ')    \n",
    "myGroebnerCheck(g, t = \"lex\", gen = (x, y), dom = 'QQ')\n",
    "\n",
    "print(\"\\n-----REDUCED GROEBNER BUILD IN sympy-----\")\n",
    "print(sym.groebner(f, x, y, order = \"lex\", domain = 'QQ'))\n",
    "print(\"-----------------------------------------\")"
   ]
  },
  {
   "cell_type": "code",
   "execution_count": 12,
   "metadata": {},
   "outputs": [
    {
     "name": "stdout",
     "output_type": "stream",
     "text": [
      "g0 = x^{2} y - 1\n",
      "g1 = x y^{2} - x\n",
      "g2 = x^{2} - y\n",
      "g3 = y^{2} - 1\n",
      "g4 = y^{3} - y\n",
      "S(g0, g1) = x^{2} - y\n",
      "Reminder of division with g = 0\n",
      "S(g0, g2) = y^{2} - 1\n",
      "Reminder of division with g = 0\n",
      "S(g0, g3) = x^{2} - y\n",
      "Reminder of division with g = 0\n",
      "S(g0, g4) = x^{2} y - y^{2}\n",
      "Reminder of division with g = 0\n",
      "S(g1, g2) = - x^{2} + y^{3}\n",
      "Reminder of division with g = 0\n",
      "S(g1, g3) = 0\n",
      "Reminder of division with g = 0\n",
      "S(g1, g4) = 0\n",
      "Reminder of division with g = 0\n",
      "S(g2, g3) = x^{2} - y^{3}\n",
      "Reminder of division with g = 0\n",
      "S(g2, g4) = x^{2} y - y^{4}\n",
      "Reminder of division with g = 0\n",
      "S(g3, g4) = 0\n",
      "Reminder of division with g = 0\n",
      "\n",
      "-----REDUCED GROEBNER BUILD IN sympy-----\n",
      "GroebnerBasis([x**2 - y, y**2 - 1], x, y, domain='QQ', order='grlex')\n",
      "-----------------------------------------\n"
     ]
    }
   ],
   "source": [
    "#2a & 3a grlex x>y\n",
    "\n",
    "f0 = Poly(x**2*y - 1, x, y)\n",
    "f1 = Poly(x*y**2 - x, x, y)\n",
    "\n",
    "f = [f0, f1]\n",
    "\n",
    "g = myGroebner(f, t = \"grlex\", gen = (x, y), dom = 'QQ')    \n",
    "myGroebnerCheck(g, t = \"grlex\", gen = (x, y), dom = 'QQ')\n",
    "\n",
    "print(\"\\n-----REDUCED GROEBNER BUILD IN sympy-----\")\n",
    "print(sym.groebner(f, x, y, order = \"grlex\", domain = 'QQ'))\n",
    "print(\"-----------------------------------------\")"
   ]
  },
  {
   "cell_type": "code",
   "execution_count": 13,
   "metadata": {},
   "outputs": [
    {
     "name": "stdout",
     "output_type": "stream",
     "text": [
      "g0 = x^{2} + y\n",
      "g1 = x^{4} + 2 x^{2} y + y^{2} + 3\n",
      "g2 = -3\n",
      "S(g0, g1) = - x^{2} y - y^{2} - 3\n",
      "Reminder of division with g = 0\n",
      "S(g0, g2) = y\n",
      "Reminder of division with g = 0\n",
      "S(g1, g2) = 2 x^{2} y + y^{2} + 3\n",
      "Reminder of division with g = 0\n",
      "\n",
      "-----REDUCED GROEBNER BUILD IN sympy-----\n",
      "GroebnerBasis([1], x, y, domain='QQ', order='lex')\n",
      "-----------------------------------------\n"
     ]
    }
   ],
   "source": [
    "#2b & 3b lex x > y\n",
    "\n",
    "f0 = Poly(x**2 + y, x, y, domain = 'QQ')\n",
    "f1 = Poly(x**4 + 2*x**2*y + y**2 + 3, x, y, domain = 'QQ')\n",
    "\n",
    "f = [f0, f1]\n",
    "\n",
    "g = myGroebner(f, t = \"lex\", gen = (x, y), dom = 'QQ')\n",
    "myGroebnerCheck(g, t = \"lex\", gen = (x, y), dom = 'QQ')\n",
    "\n",
    "print(\"\\n-----REDUCED GROEBNER BUILD IN sympy-----\")\n",
    "print(sym.groebner(f, x, y, order = \"lex\", domain = 'QQ'))\n",
    "print(\"-----------------------------------------\")"
   ]
  },
  {
   "cell_type": "code",
   "execution_count": 14,
   "metadata": {},
   "outputs": [
    {
     "name": "stdout",
     "output_type": "stream",
     "text": [
      "g0 = x^{2} + y\n",
      "g1 = x^{4} + 2 x^{2} y + y^{2} + 3\n",
      "g2 = -3\n",
      "S(g0, g1) = - x^{2} y - y^{2} - 3\n",
      "Reminder of division with g = 0\n",
      "S(g0, g2) = y\n",
      "Reminder of division with g = 0\n",
      "S(g1, g2) = 2 x^{2} y + y^{2} + 3\n",
      "Reminder of division with g = 0\n",
      "\n",
      "-----REDUCED GROEBNER BUILD IN sympy-----\n",
      "GroebnerBasis([1], x, y, domain='QQ', order='grlex')\n",
      "-----------------------------------------\n"
     ]
    }
   ],
   "source": [
    "#2b & 3b grlex x > y\n",
    "\n",
    "f0 = Poly(x**2 + y, x, y, domain = 'QQ')\n",
    "f1 = Poly(x**4 + 2*x**2*y + y**2 + 3, x, y, domain = 'QQ')\n",
    "\n",
    "f = [f0, f1]\n",
    "\n",
    "g = myGroebner(f, t = \"grlex\", gen = (x, y), dom = 'QQ')    \n",
    "myGroebnerCheck(g, t = \"grlex\", gen = (x, y), dom = 'QQ')\n",
    "\n",
    "print(\"\\n-----REDUCED GROEBNER BUILD IN sympy-----\")\n",
    "print(sym.groebner(f, x, y, order = \"grlex\", domain = 'QQ'))\n",
    "print(\"-----------------------------------------\")"
   ]
  },
  {
   "cell_type": "code",
   "execution_count": 15,
   "metadata": {},
   "outputs": [
    {
     "name": "stdout",
     "output_type": "stream",
     "text": [
      "g0 = x - z^{4}\n",
      "g1 = y - z^{5}\n",
      "S(g0, g1) = x z^{5} - y z^{4}\n",
      "Reminder of division with g = 0\n",
      "\n",
      "-----REDUCED GROEBNER BUILD IN sympy-----\n",
      "GroebnerBasis([x - z**4, y - z**5], x, y, z, domain='QQ', order='lex')\n",
      "-----------------------------------------\n"
     ]
    }
   ],
   "source": [
    "#2c & 3c lex x > y > z\n",
    "\n",
    "f0 = Poly(x - z**4, x, y, z, domain = 'QQ')\n",
    "f1 = Poly(y - z**5, x, y, z, domain = 'QQ')\n",
    "\n",
    "f = [f0, f1]\n",
    "\n",
    "g = myGroebner(f, t = \"lex\", gen = (x, y, z), dom = 'QQ')\n",
    "myGroebnerCheck(g, t = \"lex\", gen = (x, y, z), dom = 'QQ')\n",
    "\n",
    "print(\"\\n-----REDUCED GROEBNER BUILD IN sympy-----\")\n",
    "print(sym.groebner(f, x, y, z, order = \"lex\", domain = 'QQ'))\n",
    "print(\"-----------------------------------------\")"
   ]
  },
  {
   "cell_type": "code",
   "execution_count": 16,
   "metadata": {},
   "outputs": [
    {
     "name": "stdout",
     "output_type": "stream",
     "text": [
      "g0 = x - z^{4}\n",
      "g1 = y - z^{5}\n",
      "g2 = - x z + y\n",
      "g3 = - x^{2} + y z^{3}\n",
      "g4 = x^{3} - y^{2} z^{2}\n",
      "g5 = x^{4} - y^{3} z\n",
      "S(g0, g1) = - x z + y\n",
      "Reminder of division with g = 0\n",
      "S(g0, g2) = - x^{2} + y z^{3}\n",
      "Reminder of division with g = 0\n",
      "S(g0, g3) = x^{2} z - x y\n",
      "Reminder of division with g = 0\n",
      "S(g0, g4) = x^{3} z^{2} - x y^{2}\n",
      "Reminder of division with g = 0\n",
      "S(g0, g5) = - x^{5} + y^{3} z^{5}\n",
      "Reminder of division with g = 0\n",
      "S(g1, g2) = - x y + y z^{4}\n",
      "Reminder of division with g = 0\n",
      "S(g1, g3) = x^{2} z^{2} - y^{2}\n",
      "Reminder of division with g = 0\n",
      "S(g1, g4) = x^{3} z^{3} - y^{3}\n",
      "Reminder of division with g = 0\n",
      "S(g1, g5) = - x^{4} y + y^{3} z^{6}\n",
      "Reminder of division with g = 0\n",
      "S(g2, g3) = x^{3} - y^{2} z^{2}\n",
      "Reminder of division with g = 0\n",
      "S(g2, g4) = x^{4} - y^{3} z\n",
      "Reminder of division with g = 0\n",
      "S(g2, g5) = - x^{3} y + y^{3} z^{2}\n",
      "Reminder of division with g = 0\n",
      "S(g3, g4) = x^{3} z - x^{2} y\n",
      "Reminder of division with g = 0\n",
      "S(g3, g5) = - x^{6} + y^{4} z^{4}\n",
      "Reminder of division with g = 0\n",
      "S(g4, g5) = - x^{7} + y^{5} z^{3}\n",
      "Reminder of division with g = 0\n",
      "\n",
      "-----REDUCED GROEBNER BUILD IN sympy-----\n",
      "GroebnerBasis([x**4 - y**3*z, y**2*z**2 - x**3, y*z**3 - x**2, z**4 - x, x*z - y], x, y, z, domain='QQ', order='grlex')\n",
      "-----------------------------------------\n"
     ]
    }
   ],
   "source": [
    "#2c & 3c grlex x > y > z\n",
    "\n",
    "f0 = Poly(x - z**4, x, y, z, domain = 'QQ')\n",
    "f1 = Poly(y - z**5, x, y, z, domain = 'QQ')\n",
    "\n",
    "f = [f0, f1]\n",
    "\n",
    "g = myGroebner(f, t = \"grlex\", gen = (x, y, z), dom = 'QQ')\n",
    "myGroebnerCheck(g, t = \"grlex\", gen = (x, y, z), dom = 'QQ')\n",
    "\n",
    "print(\"\\n-----REDUCED GROEBNER BUILD IN sympy-----\")\n",
    "print(sym.groebner(f, x, y, z, order = \"grlex\", domain = 'QQ'))\n",
    "print(\"-----------------------------------------\")"
   ]
  },
  {
   "cell_type": "code",
   "execution_count": 17,
   "metadata": {},
   "outputs": [],
   "source": [
    "#8 COMPARING myRedGroeb with 3a, 3b, 3c\n",
    "\n",
    "def myRedGroeb(f, t, gen, dom):\n",
    "    #HAVING GROEBNER BASIS\n",
    "    g = myGroebner(f, t = t, gen = gen, dom = dom)\n",
    "\n",
    "    #HAVING MONIC GROEBNER BASIS\n",
    "    for i in range(len(g)):\n",
    "        g[i] = sym.monic(g[i])\n",
    "\n",
    "    #MAKING LIST OF LT(g):\n",
    "    lstLT = []\n",
    "    for i in range (len(g)):\n",
    "        lstLT.append(Poly(LT(g[i], order = t), gen, domain = dom))\n",
    "\n",
    "    #CHANGING THE NON REDUCED BASIS INTO ZERO\n",
    "    h = g.copy()\n",
    "    for i in range (len(g)):\n",
    "        while h[i] != 0 :\n",
    "            denum = lstLT[0:i] + lstLT[i+1:]\n",
    "            rem = myDiv(denum, Poly(LT(h[i], order = t), gen, domain = dom), t = t, gen = gen, dom = dom)[1]\n",
    "            if rem == 0 :\n",
    "                g[i] = 0\n",
    "                break\n",
    "            else:\n",
    "                h[i] = h[i] - LT(h[i], order = t)\n",
    "\n",
    "    #REMOVING THE ZERO BASIS\n",
    "    g = list( filter( lambda a: a != 0, g ) )\n",
    "    print(f\"Reduced Groebner = {g}\")\n",
    "    return g"
   ]
  },
  {
   "cell_type": "code",
   "execution_count": 19,
   "metadata": {},
   "outputs": [
    {
     "name": "stdout",
     "output_type": "stream",
     "text": [
      "g0 = x^{2} y - 1\n",
      "g1 = x y^{2} - x\n",
      "g2 = x^{2} - y\n",
      "g3 = y^{2} - 1\n",
      "g4 = y^{3} - y\n",
      "Reduced Groebner = [Poly(x**2 - y, x, y, domain='QQ'), Poly(y**2 - 1, x, y, domain='QQ')]\n"
     ]
    },
    {
     "data": {
      "text/plain": [
       "[Poly(x**2 - y, x, y, domain='QQ'), Poly(y**2 - 1, x, y, domain='QQ')]"
      ]
     },
     "execution_count": 19,
     "metadata": {},
     "output_type": "execute_result"
    }
   ],
   "source": [
    "#8 on 3a lex\n",
    "\n",
    "f0 = Poly(x**2*y - 1, x, y)\n",
    "f1 = Poly(x*y**2 - x, x, y)\n",
    "\n",
    "f = [f0, f1]\n",
    "\n",
    "myRedGroeb(f, t = \"lex\", gen = (x, y), dom = 'QQ')"
   ]
  },
  {
   "cell_type": "code",
   "execution_count": 20,
   "metadata": {},
   "outputs": [
    {
     "name": "stdout",
     "output_type": "stream",
     "text": [
      "g0 = x^{2} y - 1\n",
      "g1 = x y^{2} - x\n",
      "g2 = x^{2} - y\n",
      "g3 = y^{2} - 1\n",
      "g4 = y^{3} - y\n",
      "Reduced Groebner = [Poly(x**2 - y, x, y, domain='QQ'), Poly(y**2 - 1, x, y, domain='QQ')]\n"
     ]
    },
    {
     "data": {
      "text/plain": [
       "[Poly(x**2 - y, x, y, domain='QQ'), Poly(y**2 - 1, x, y, domain='QQ')]"
      ]
     },
     "execution_count": 20,
     "metadata": {},
     "output_type": "execute_result"
    }
   ],
   "source": [
    "#8 on 3a grlex\n",
    "\n",
    "f0 = Poly(x**2*y - 1, x, y)\n",
    "f1 = Poly(x*y**2 - x, x, y)\n",
    "\n",
    "f = [f0, f1]\n",
    "\n",
    "myRedGroeb(f, t = \"grlex\", gen = (x, y), dom = 'QQ')"
   ]
  },
  {
   "cell_type": "code",
   "execution_count": 21,
   "metadata": {},
   "outputs": [
    {
     "name": "stdout",
     "output_type": "stream",
     "text": [
      "g0 = x^{2} + y\n",
      "g1 = x^{4} + 2 x^{2} y + y^{2} + 3\n",
      "g2 = -3\n",
      "Reduced Groebner = [Poly(1, x, y, domain='QQ')]\n"
     ]
    },
    {
     "data": {
      "text/plain": [
       "[Poly(1, x, y, domain='QQ')]"
      ]
     },
     "execution_count": 21,
     "metadata": {},
     "output_type": "execute_result"
    }
   ],
   "source": [
    "#8 on 3b lex\n",
    "\n",
    "f0 = Poly(x**2 + y, x, y, domain = 'QQ')\n",
    "f1 = Poly(x**4 + 2*x**2*y + y**2 + 3, x, y, domain = 'QQ')\n",
    "\n",
    "f = [f0, f1]\n",
    "\n",
    "myRedGroeb(f, t = \"lex\", gen = (x, y), dom = 'QQ')"
   ]
  },
  {
   "cell_type": "code",
   "execution_count": 23,
   "metadata": {},
   "outputs": [
    {
     "name": "stdout",
     "output_type": "stream",
     "text": [
      "g0 = x^{2} + y\n",
      "g1 = x^{4} + 2 x^{2} y + y^{2} + 3\n",
      "g2 = -3\n",
      "Reduced Groebner = [Poly(1, x, y, domain='QQ')]\n"
     ]
    },
    {
     "data": {
      "text/plain": [
       "[Poly(1, x, y, domain='QQ')]"
      ]
     },
     "execution_count": 23,
     "metadata": {},
     "output_type": "execute_result"
    }
   ],
   "source": [
    "#8 on 3b grlex\n",
    "\n",
    "f0 = Poly(x**2 + y, x, y, domain = 'QQ')\n",
    "f1 = Poly(x**4 + 2*x**2*y + y**2 + 3, x, y, domain = 'QQ')\n",
    "\n",
    "f = [f0, f1]\n",
    "\n",
    "myRedGroeb(f, t = \"grlex\", gen = (x, y), dom = 'QQ')"
   ]
  },
  {
   "cell_type": "code",
   "execution_count": 25,
   "metadata": {},
   "outputs": [
    {
     "name": "stdout",
     "output_type": "stream",
     "text": [
      "g0 = x - z^{4}\n",
      "g1 = y - z^{5}\n",
      "Reduced Groebner = [Poly(x - z**4, x, y, z, domain='QQ'), Poly(y - z**5, x, y, z, domain='QQ')]\n"
     ]
    },
    {
     "data": {
      "text/plain": [
       "[Poly(x - z**4, x, y, z, domain='QQ'), Poly(y - z**5, x, y, z, domain='QQ')]"
      ]
     },
     "execution_count": 25,
     "metadata": {},
     "output_type": "execute_result"
    }
   ],
   "source": [
    "#8 on 3c lex\n",
    "\n",
    "f0 = Poly(x - z**4, x, y, z, domain = 'QQ')\n",
    "f1 = Poly(y - z**5, x, y, z, domain = 'QQ')\n",
    "\n",
    "f = [f0, f1]\n",
    "\n",
    "myRedGroeb(f, t = \"lex\", gen = (x, y, z), dom = 'QQ')"
   ]
  },
  {
   "cell_type": "code",
   "execution_count": 26,
   "metadata": {},
   "outputs": [
    {
     "name": "stdout",
     "output_type": "stream",
     "text": [
      "g0 = x - z^{4}\n",
      "g1 = y - z^{5}\n",
      "g2 = - x z + y\n",
      "g3 = - x^{2} + y z^{3}\n",
      "g4 = x^{3} - y^{2} z^{2}\n",
      "g5 = x^{4} - y^{3} z\n",
      "Reduced Groebner = [Poly(x - z**4, x, y, z, domain='QQ'), Poly(x*z - y, x, y, z, domain='QQ'), Poly(x**2 - y*z**3, x, y, z, domain='QQ'), Poly(x**3 - y**2*z**2, x, y, z, domain='QQ'), Poly(x**4 - y**3*z, x, y, z, domain='QQ')]\n"
     ]
    },
    {
     "data": {
      "text/plain": [
       "[Poly(x - z**4, x, y, z, domain='QQ'),\n",
       " Poly(x*z - y, x, y, z, domain='QQ'),\n",
       " Poly(x**2 - y*z**3, x, y, z, domain='QQ'),\n",
       " Poly(x**3 - y**2*z**2, x, y, z, domain='QQ'),\n",
       " Poly(x**4 - y**3*z, x, y, z, domain='QQ')]"
      ]
     },
     "execution_count": 26,
     "metadata": {},
     "output_type": "execute_result"
    }
   ],
   "source": [
    "#8 on 3c grlex\n",
    "\n",
    "f0 = Poly(x - z**4, x, y, z, domain = 'QQ')\n",
    "f1 = Poly(y - z**5, x, y, z, domain = 'QQ')\n",
    "\n",
    "f = [f0, f1]\n",
    "\n",
    "myRedGroeb(f, t = \"grlex\", gen = (x, y, z), dom = 'QQ')"
   ]
  },
  {
   "cell_type": "code",
   "execution_count": 27,
   "metadata": {},
   "outputs": [
    {
     "name": "stdout",
     "output_type": "stream",
     "text": [
      "S(g0, g1) = - 3 w x - w z - 2 y z - z^{2}\n",
      "Reminder of division with g = 0\n"
     ]
    }
   ],
   "source": [
    "#9a\n",
    "from sympy.abc import w\n",
    "\n",
    "t = \"lex\"\n",
    "gen = (x, y, z, w)\n",
    "dom = 'QQ'\n",
    "\n",
    "g0 = Poly(x - 2*y - z - w, gen, domain = dom)\n",
    "g1 = Poly(z + 3*w, gen, domain = dom)\n",
    "\n",
    "g = [g0, g1]\n",
    "\n",
    "myGroebnerCheck(g, t, gen, dom)"
   ]
  },
  {
   "cell_type": "code",
   "execution_count": 28,
   "metadata": {},
   "outputs": [
    {
     "name": "stdout",
     "output_type": "stream",
     "text": [
      "S(g0, g1) = - 3 w x + w z - 2 y z\n",
      "Reminder of division with g = 0\n"
     ]
    }
   ],
   "source": [
    "#9b\n",
    "from sympy.abc import w\n",
    "\n",
    "t = \"lex\"\n",
    "gen = (x, y, z, w)\n",
    "dom = 'QQ'\n",
    "\n",
    "g0 = Poly(x - 2*y + w, gen, domain = dom)\n",
    "g1 = Poly(z + 3*w, gen, domain = dom)\n",
    "\n",
    "g = [g0, g1]\n",
    "\n",
    "myGroebnerCheck(g, t, gen, dom)"
   ]
  },
  {
   "cell_type": "code",
   "execution_count": null,
   "metadata": {},
   "outputs": [],
   "source": []
  }
 ],
 "metadata": {
  "kernelspec": {
   "display_name": "Python 3",
   "language": "python",
   "name": "python3"
  },
  "language_info": {
   "codemirror_mode": {
    "name": "ipython",
    "version": 3
   },
   "file_extension": ".py",
   "mimetype": "text/x-python",
   "name": "python",
   "nbconvert_exporter": "python",
   "pygments_lexer": "ipython3",
   "version": "3.7.3"
  }
 },
 "nbformat": 4,
 "nbformat_minor": 2
}
